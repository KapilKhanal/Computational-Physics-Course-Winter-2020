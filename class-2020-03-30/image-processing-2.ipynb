{
 "cells": [
  {
   "cell_type": "markdown",
   "metadata": {},
   "source": [
    "## Astronomical image processing -- detecting stars, aligning images, and making color images\n",
    "\n",
    "Following on last lecture, we're going to use some of the things we have learned -- matched filtering, estimating \"background\" levels, and manipulating RGB images -- to build an astronomical mosaic image from raw image data."
   ]
  },
  {
   "cell_type": "markdown",
   "metadata": {},
   "source": [
    "Unlike last week, I'm going to install and use the `FITSIO` package to handle real astronomy data."
   ]
  },
  {
   "cell_type": "code",
   "execution_count": null,
   "metadata": {},
   "outputs": [],
   "source": [
    "] add Images ImageIO ImageFiltering Plots FITSIO ImageShow StatsBase"
   ]
  },
  {
   "cell_type": "markdown",
   "metadata": {},
   "source": [
    "We are going to read a set of images from the Sloan Digital Sky Survey (SDSS).\n",
    "\n",
    "SDSS used a special camera to do \"drift scanning\" of the sky.  In drift scanning, the telescope is kept pointed almost stationary, and the sky is observed as the Earth rotates (causing the sky to drift past the camera).  The CCD chips in the camera are read out at exactly the same speed as the sky drifts past.\n",
    "    "
   ]
  },
  {
   "cell_type": "code",
   "execution_count": null,
   "metadata": {},
   "outputs": [],
   "source": [
    "`bunzip2"
   ]
  },
  {
   "cell_type": "code",
   "execution_count": null,
   "metadata": {},
   "outputs": [],
   "source": [
    "using Images, ImageIO"
   ]
  },
  {
   "cell_type": "code",
   "execution_count": null,
   "metadata": {},
   "outputs": [],
   "source": [
    "load(\"sdss-camera.jpg\")"
   ]
  },
  {
   "cell_type": "markdown",
   "metadata": {},
   "source": [
    "Above is a photograph of the SDSS camera.  It has 6 columns of chips (CCDs), with 5 chips in each column.  Each chip has a bandpass filter permanently mounted to it.  When drift scanning, a star would first appear at the top of the camera and drift down to the bottom.  The chips are perfectly rotated so that a star will drift exactly down the columns of the CCD.\n",
    "\n",
    "The five filters are called \"u\", \"g\", \"r\", \"i\", and \"z\":\n",
    "\"u\" is near-ultraviolet\n",
    "\"g\" is \"green\"\n",
    "\"r\" is \"red\"\n",
    "\"i\" is near-infrared\n",
    "\"z\" is further into the infrared\n",
    "\n",
    "Top to bottom, the filter order is \"r\",\"i\",\"u\",\"z\",\"g\".  In the photo above, you can see that the top row of chips has a red filter, and the bottom row has a bluish filter, while the middle three look black to our eyes.\n",
    "\n",
    "For typical stars, the \"g\", \"r\", and \"i\" filters are most sensitive, and these are the ones we will use today."
   ]
  },
  {
   "cell_type": "code",
   "execution_count": null,
   "metadata": {},
   "outputs": [],
   "source": [
    "# Astronomical images are almost always in FITS = Flexible Image Transport System format\n",
    "using FITSIO"
   ]
  },
  {
   "cell_type": "code",
   "execution_count": null,
   "metadata": {},
   "outputs": [],
   "source": [
    "# I downloaded calibrated data from the Sloan Digital Sky Survey web site\n",
    "# -- https://dr12.sdss.org/fields/runCamcolField?run=752&camcol=5&field=408\n",
    "\n",
    "# Let's read the \"r\"-band image.\n",
    "rfile = FITS(\"frame-r-000752-5-0408.fits\")\n",
    "rimage = read(rfile[1])\n",
    "size(rimage), typeof(rimage)"
   ]
  },
  {
   "cell_type": "code",
   "execution_count": null,
   "metadata": {},
   "outputs": [],
   "source": [
    "# FITS files typically come with a lot of \"header\" information\n",
    "read_header(rfile[1]);"
   ]
  },
  {
   "cell_type": "code",
   "execution_count": null,
   "metadata": {},
   "outputs": [],
   "source": [
    "# Let's have a look!\n",
    "Gray.(rimage)"
   ]
  },
  {
   "cell_type": "code",
   "execution_count": null,
   "metadata": {},
   "outputs": [],
   "source": [
    "# That image is a little big to handle -- for convenience let's cut out a sub-image to work with interactively.\n",
    "# This range \"just happens\" to have two nice galaxies in it!\n",
    "rsub = rimage[1000:1500, 500:1000];\n",
    "Gray.(rsub)"
   ]
  },
  {
   "cell_type": "markdown",
   "metadata": {},
   "source": [
    "Let's investigate the properties of this image.  We'll start by histogramming the pixel values."
   ]
  },
  {
   "cell_type": "code",
   "execution_count": null,
   "metadata": {},
   "outputs": [],
   "source": [
    "using Plots"
   ]
  },
  {
   "cell_type": "code",
   "execution_count": null,
   "metadata": {},
   "outputs": [],
   "source": [
    "histogram(vec(rimage))"
   ]
  },
  {
   "cell_type": "markdown",
   "metadata": {},
   "source": [
    "As I claimed last week, astronomical images often have a large dynamic range -- so this histogram isn't super useful because the histogram is auto-stretching to show a few pixels with very large values.  Looking in log space (vertically), we can see that more clearly."
   ]
  },
  {
   "cell_type": "code",
   "execution_count": null,
   "metadata": {},
   "outputs": [],
   "source": [
    "histogram(vec(rimage), yscale=:log10)"
   ]
  },
  {
   "cell_type": "markdown",
   "metadata": {},
   "source": [
    "Let's check out whether we need to do a \"background\" or \"sky\" subtraction, by zooming in to the peak of the histogram.  We'll measure where that is using the `quantile` trick from last week."
   ]
  },
  {
   "cell_type": "code",
   "execution_count": null,
   "metadata": {},
   "outputs": [],
   "source": [
    "using Statistics"
   ]
  },
  {
   "cell_type": "code",
   "execution_count": null,
   "metadata": {},
   "outputs": [],
   "source": [
    "lo,mid,hi = quantile(vec(rimage), [0.16, 0.5, 0.84])"
   ]
  },
  {
   "cell_type": "code",
   "execution_count": null,
   "metadata": {},
   "outputs": [],
   "source": [
    "histogram(vec(rimage), bins=range(-0.1, 1, length=50))"
   ]
  },
  {
   "cell_type": "markdown",
   "metadata": {},
   "source": [
    "Okay, so it looks like this image has already had a background level subtracted in calibration.  That's convenient!"
   ]
  },
  {
   "cell_type": "markdown",
   "metadata": {},
   "source": [
    "Next, let's load images from the other filters observed by this camera."
   ]
  },
  {
   "cell_type": "code",
   "execution_count": null,
   "metadata": {},
   "outputs": [],
   "source": [
    "gfile = FITS(\"frame-g-000752-5-0408.fits\")\n",
    "gimage = read(gfile[1])\n",
    "ifile = FITS(\"frame-i-000752-5-0408.fits\")\n",
    "iimage = read(ifile[1])\n",
    "# We'll take the same sub-images for looking at.\n",
    "gsub = gimage[1000:1500, 500:1000];\n",
    "isub = iimage[1000:1500, 500:1000];\n",
    "[Gray.(gsub) Gray.(rsub) Gray.(isub)]"
   ]
  },
  {
   "cell_type": "markdown",
   "metadata": {},
   "source": [
    "Let's try making a color image out of these three images."
   ]
  },
  {
   "cell_type": "code",
   "execution_count": null,
   "metadata": {},
   "outputs": [],
   "source": [
    "colorview(RGB, isub, rsub, gsub)"
   ]
  },
  {
   "cell_type": "markdown",
   "metadata": {},
   "source": [
    "Yuck!  It looks like these images are not pixel-by-pixel aligned."
   ]
  },
  {
   "cell_type": "markdown",
   "metadata": {},
   "source": [
    "Now, we could probably eyeball the offsets between the image layers, but I am going to show you a more\n",
    "sophisticated approach (that generalizes to rotations, and is similar to what I have done in my research work\n",
    "for aligning a large Hubble Space Telescope survey): we are going to detect stars in the different images,\n",
    "and find an offset that aligns them!"
   ]
  },
  {
   "cell_type": "markdown",
   "metadata": {},
   "source": [
    "Detecting stars in astronomical images is a *perfect* setting for using a *matched filter*.\n",
    "\n",
    "We know that the stars are tiny dots (nearly \"point sources\"), which get blurred out by the atmosphere.  We can approximate that atmospheric blurring as a Gaussian.  The width of that Gaussian is measured and reported by the SDSS data-processing pipeline."
   ]
  },
  {
   "cell_type": "code",
   "execution_count": null,
   "metadata": {},
   "outputs": [],
   "source": [
    "# From the web page for this image: https://dr12.sdss.org/fields/runCamcolField?run=752&camcol=5&field=408\n",
    "# psf_fwhm: ~1.3\n",
    "# That's in arcseconds FWHM, and the pixel scale of the SDSS camera is 0.396\"/pixel, so:\n",
    "# 1.3\" / 0.396\" = 3.3 pixels FWHM / 2.35 = 1.4 pixels Gaussian sigma."
   ]
  },
  {
   "cell_type": "code",
   "execution_count": null,
   "metadata": {},
   "outputs": [],
   "source": [
    "using ImageFiltering"
   ]
  },
  {
   "cell_type": "code",
   "execution_count": null,
   "metadata": {},
   "outputs": [],
   "source": [
    "sigma = 1.4\n",
    "# Construct the filtering kernel:\n",
    "gauss_kernel = Kernel.gaussian(sigma)\n",
    "# Apply the filter!\n",
    "rfilt = imfilter(rsub, gauss_kernel)\n",
    "\n",
    "# What does that filter do to the noise?\n",
    "# First estimate the noise in the original image:\n",
    "lo,mid,hi = quantile(vec(rimage), [0.16, 0.5, 0.84])\n",
    "rsigma = mid - lo\n",
    "# Using Gaussian statistics, you can compute the noise of the filtered image:\n",
    "rfilt_sigma = rsigma / (2. * sqrt(pi) * sigma)\n",
    "\n",
    "# Let's look at the filtered image\n",
    "Gray.(rfilt)"
   ]
  },
  {
   "cell_type": "code",
   "execution_count": null,
   "metadata": {},
   "outputs": [],
   "source": [
    "rfilt_sigma"
   ]
  },
  {
   "cell_type": "code",
   "execution_count": null,
   "metadata": {},
   "outputs": [],
   "source": [
    "histogram(vec(rfilt), bins=range(-5. * rfilt_sigma, 10. * rfilt_sigma, length=50))"
   ]
  },
  {
   "cell_type": "markdown",
   "metadata": {},
   "source": [
    "Next, we're going to search for *peak* in the filtered image, above N sigma."
   ]
  },
  {
   "cell_type": "code",
   "execution_count": null,
   "metadata": {},
   "outputs": [],
   "source": [
    "function find_peaks(filt, filt_sigma, nsigma)\n",
    "    H,W = size(filt)\n",
    "    peak_x = []\n",
    "    peak_y = []\n",
    "    for i = 2:H-1\n",
    "        for j = 2:W-1\n",
    "            if ((filt[i, j] > (nsigma * filt_sigma)) &&\n",
    "                (filt[i, j] > filt[i-1, j-1]) &&\n",
    "                (filt[i, j] > filt[i-1, j  ]) &&\n",
    "                (filt[i, j] > filt[i-1, j+1]) &&\n",
    "                (filt[i, j] > filt[i+1, j-1]) &&\n",
    "                (filt[i, j] > filt[i+1, j  ]) &&\n",
    "                (filt[i, j] > filt[i+1, j+1]) &&\n",
    "                (filt[i, j] > filt[i  , j-1]) &&\n",
    "                (filt[i, j] > filt[i  , j+1]))\n",
    "                append!(peak_x, j)\n",
    "                append!(peak_y, i)\n",
    "            end\n",
    "        end\n",
    "    end\n",
    "    peak_x, peak_y\n",
    "end"
   ]
  },
  {
   "cell_type": "code",
   "execution_count": null,
   "metadata": {},
   "outputs": [],
   "source": [
    "nsigma = 8\n",
    "rx,ry = find_peaks(rfilt, rfilt_sigma, nsigma);"
   ]
  },
  {
   "cell_type": "code",
   "execution_count": null,
   "metadata": {},
   "outputs": [],
   "source": [
    "plot(10. * Gray.(rsub))\n",
    "plot!(rx, ry, seriestype = :scatter, markershape=:x, color=\"red\")\n",
    "    #markersize=5, markerstrokecolor=\"red\", \n",
    "    #markercolor = :white)\n",
    "    #markeralpha=0)"
   ]
  },
  {
   "cell_type": "code",
   "execution_count": null,
   "metadata": {},
   "outputs": [],
   "source": [
    "# Repeat for \"g\" and \"i\" bands!\n",
    "lo,mid,hi = quantile(vec(gimage), [0.16, 0.5, 0.84])\n",
    "gsigma = mid - lo\n",
    "gfilt_sigma = gsigma / (2. * sqrt(pi) * sigma)\n",
    "gfilt = imfilter(gsub, gauss_kernel)\n",
    "gx,gy = find_peaks(gfilt, gfilt_sigma, nsigma);\n",
    "plot(10. * Gray.(gsub))\n",
    "plot!(gx, gy, seriestype = :scatter, markershape=:x, color=\"red\")"
   ]
  },
  {
   "cell_type": "code",
   "execution_count": null,
   "metadata": {},
   "outputs": [],
   "source": [
    "lo,mid,hi = quantile(vec(iimage), [0.16, 0.5, 0.84])\n",
    "isigma = mid - lo\n",
    "ifilt_sigma = isigma / (2. * sqrt(pi) * sigma)\n",
    "ifilt = imfilter(isub, gauss_kernel)\n",
    "ix,iy = find_peaks(ifilt, ifilt_sigma, nsigma);\n",
    "plot(10. * Gray.(isub))\n",
    "plot!(ix, iy, seriestype = :scatter, markershape=:x, color=\"red\")"
   ]
  },
  {
   "cell_type": "markdown",
   "metadata": {},
   "source": [
    "Now, we're going to take our detected star positions and search for an offset that causes many of the star positions to line up!\n",
    "\n",
    "Start by finding nearby pairs of stars, and then we'll histogram their delta-x, delta-y offsets."
   ]
  },
  {
   "cell_type": "code",
   "execution_count": null,
   "metadata": {},
   "outputs": [],
   "source": [
    "function find_nearby(x1,y1, x2,y2, dist)\n",
    "    I = []\n",
    "    J = []\n",
    "    for i in 1:length(x1)\n",
    "        for j in 1:length(x2)\n",
    "            if abs(x1[i]-x2[j]) + abs(y1[i]-y2[j]) < dist\n",
    "                append!(I, i)\n",
    "                append!(J, j)\n",
    "            end\n",
    "        end\n",
    "    end\n",
    "    I,J\n",
    "end"
   ]
  },
  {
   "cell_type": "code",
   "execution_count": null,
   "metadata": {},
   "outputs": [],
   "source": [
    "I,J = find_nearby(rx,ry, gx,gy, 50.)"
   ]
  },
  {
   "cell_type": "code",
   "execution_count": null,
   "metadata": {},
   "outputs": [],
   "source": [
    "dx = rx[I] - gx[J]\n",
    "dy = ry[I] - gy[J];"
   ]
  },
  {
   "cell_type": "code",
   "execution_count": null,
   "metadata": {},
   "outputs": [],
   "source": [
    "plot(dx, dy, seriestype=:scatter, marker=:x, alpha=0.5)"
   ]
  },
  {
   "cell_type": "code",
   "execution_count": null,
   "metadata": {},
   "outputs": [],
   "source": [
    "histogram2d(dx, dy, bins=20)"
   ]
  },
  {
   "cell_type": "code",
   "execution_count": null,
   "metadata": {},
   "outputs": [],
   "source": [
    "using StatsBase"
   ]
  },
  {
   "cell_type": "markdown",
   "metadata": {},
   "source": [
    "We want to *find* the peak of that histogram.  This is the (rather ugly) way I found to do that:"
   ]
  },
  {
   "cell_type": "code",
   "execution_count": null,
   "metadata": {},
   "outputs": [],
   "source": [
    "function find_most_common(dx, dy)\n",
    "    H = fit(Histogram, (dx, dy), (minimum(dx):maximum(dx), minimum(dy):maximum(dy)))\n",
    "    a = argmax(H.weights)\n",
    "    ax,ay = a.I\n",
    "    xe,ye = H.edges\n",
    "    shiftx, shifty = xe[ax], ye[ay]\n",
    "end"
   ]
  },
  {
   "cell_type": "code",
   "execution_count": null,
   "metadata": {},
   "outputs": [],
   "source": [
    "shiftx,shifty = find_most_common(dx,dy)"
   ]
  },
  {
   "cell_type": "markdown",
   "metadata": {},
   "source": [
    "Okay, we have found an integer pixel offset between the \"g\" and \"r\" band images!  Let's apply that shift to the images."
   ]
  },
  {
   "cell_type": "code",
   "execution_count": null,
   "metadata": {},
   "outputs": [],
   "source": [
    "colorview(RGB, isub, rsub, gsub)"
   ]
  },
  {
   "cell_type": "code",
   "execution_count": null,
   "metadata": {},
   "outputs": [],
   "source": [
    "H,W = size(rsub)\n",
    "zsub = zeros(H,W)\n",
    "colorview(RGB, zsub, rsub, gsub)"
   ]
  },
  {
   "cell_type": "markdown",
   "metadata": {},
   "source": [
    "We'll apply that shift by creating *padded* images, and then copying our images into the padded arrays, with offsets."
   ]
  },
  {
   "cell_type": "code",
   "execution_count": null,
   "metadata": {},
   "outputs": [],
   "source": [
    "padding = 20\n",
    "H,W = size(rsub)\n",
    "padr = zeros((H + 2*padding, W + 2*padding))\n",
    "padr[padding+1:padding+H, padding+1:padding+W] = rsub;\n",
    "\n",
    "padg = zeros((H + 2*padding, W + 2*padding))\n",
    "padg[shifty + padding+1 : shifty + padding+H, shiftx + padding+1: shiftx + padding+W] = gsub;\n",
    "\n",
    "padz = zeros((H + 2*padding, W + 2*padding));"
   ]
  },
  {
   "cell_type": "code",
   "execution_count": null,
   "metadata": {},
   "outputs": [],
   "source": [
    "colorview(RGB, padz, padr, padg)"
   ]
  },
  {
   "cell_type": "markdown",
   "metadata": {},
   "source": [
    "Repeat that process for the \"i\" band!"
   ]
  },
  {
   "cell_type": "code",
   "execution_count": null,
   "metadata": {},
   "outputs": [],
   "source": [
    "I,J = find_nearby(rx,ry, ix,iy, 50.)\n",
    "dx = rx[I] - ix[J]\n",
    "dy = ry[I] - iy[J];\n",
    "six,siy = find_most_common(dx, dy)"
   ]
  },
  {
   "cell_type": "code",
   "execution_count": null,
   "metadata": {},
   "outputs": [],
   "source": [
    "padi = zeros((H + 2*padding, W + 2*padding))\n",
    "padi[siy + padding+1 : siy + padding+H, six + padding+1: six + padding+W] = isub;"
   ]
  },
  {
   "cell_type": "code",
   "execution_count": null,
   "metadata": {},
   "outputs": [],
   "source": [
    "colorview(RGB, padi, padr, padg)"
   ]
  },
  {
   "cell_type": "markdown",
   "metadata": {},
   "source": [
    "We can use different \"stretch\" functions to make pretty pictures."
   ]
  },
  {
   "cell_type": "code",
   "execution_count": null,
   "metadata": {},
   "outputs": [],
   "source": [
    "offset = 0.1\n",
    "rgb = colorview(RGB, offset .+ padi, offset .+ padr.*1.5, offset .+ padg.*2.)"
   ]
  },
  {
   "cell_type": "code",
   "execution_count": null,
   "metadata": {},
   "outputs": [],
   "source": [
    "rgb = colorview(RGB,\n",
    "    sqrt.(clamp.(padi,      0, 1)),\n",
    "    sqrt.(clamp.(padr.*1.5, 0, 1)),\n",
    "    sqrt.(clamp.(padg.*2.,  0, 1)))"
   ]
  },
  {
   "cell_type": "code",
   "execution_count": null,
   "metadata": {},
   "outputs": [],
   "source": []
  }
 ],
 "metadata": {
  "kernelspec": {
   "display_name": "Julia 1.3.0",
   "language": "julia",
   "name": "julia-1.3"
  },
  "language_info": {
   "file_extension": ".jl",
   "mimetype": "application/julia",
   "name": "julia",
   "version": "1.3.0"
  }
 },
 "nbformat": 4,
 "nbformat_minor": 2
}
