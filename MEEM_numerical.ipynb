{
  "nbformat": 4,
  "nbformat_minor": 0,
  "metadata": {
    "colab": {
      "provenance": [],
      "authorship_tag": "ABX9TyP+J/gJQviqu9Q+Fz3IAQ4P",
      "include_colab_link": true
    },
    "kernelspec": {
      "name": "python3",
      "display_name": "Python 3"
    },
    "language_info": {
      "name": "python"
    }
  },
  "cells": [
    {
      "cell_type": "markdown",
      "metadata": {
        "id": "view-in-github",
        "colab_type": "text"
      },
      "source": [
        "<a href=\"https://colab.research.google.com/github/KapilKhanal/Computational-Physics-Course-Winter-2020/blob/master/MEEM_numerical.ipynb\" target=\"_parent\"><img src=\"https://colab.research.google.com/assets/colab-badge.svg\" alt=\"Open In Colab\"/></a>"
      ]
    },
    {
      "cell_type": "markdown",
      "source": [
        "This is the numerical implementation for MEEM to get the hydrocoefficients.\n",
        "\n",
        "Set up a linear system to calculate the coefficients for each domain. $C_{1n} \\text{ and } C_{2n}$"
      ],
      "metadata": {
        "id": "wecmLIU_miR3"
      }
    },
    {
      "cell_type": "markdown",
      "source": [
        "### Stuff needed to setup linear system. (N=1) used\n"
      ],
      "metadata": {
        "id": "X0z71BZEy50T"
      }
    },
    {
      "cell_type": "markdown",
      "source": [
        "Each of the potential matching is going to be a  part of linear system\n",
        "\n",
        "** Boundary 2e potential** matching,\n",
        "\n",
        "`$C_1n_2(n) * R_1n_2 + C_2n_2*R_2n_2 - B_n * Λ(n) =  - ∫ Φ_{p_i2} * Z_n_i2(n)$`\n",
        "\n",
        "where C_1n_2 , C_2n_2 , B_n are unknown coefficients.\n",
        "\n",
        "\n",
        "Boundary 2e velocity matching,\n",
        "\n",
        "`C_1n_2(n) * R_1n_2 + C_2n_2*R_2n_2 - B_n * Λ(n) =  - ∫ Φ * Z_n_e(n)`\n",
        "\n",
        "\n"
      ],
      "metadata": {
        "id": "Wt_P3hwF34Fh"
      }
    },
    {
      "cell_type": "code",
      "execution_count": 56,
      "metadata": {
        "id": "rlFT09TjmdS4"
      },
      "outputs": [],
      "source": [
        "import numpy as np\n",
        "from scipy.special import iv as besseli\n",
        "from scipy.special import kv as besselk\n",
        "from scipy.special import hankel1 as besselh\n",
        "from scipy import integrate  #uses gaussian quadrature method\n",
        "\n",
        "\n",
        "#FIX constants here\n",
        "z,r = 0,3\n",
        "a2 = 4\n",
        "a1 = 2\n",
        "h = 1\n",
        "m0 = 0.2\n",
        "d1,d2 = 10,5\n",
        "\n",
        "# equation 4 defining all the lambdas for each n1 and n2 boundaries\n",
        "def lambda_n1(n,d1=1,h=10):\n",
        "  return n*np.pi/(h-d1)\n",
        "\n",
        "def lambda_n2(n,d2=1,h=10):\n",
        "  return n*np.pi/(h-d2)\n",
        "\n",
        "\n",
        "#equation 5 defining the particular solutions\n",
        "def phi_p(d):\n",
        "  return 1/(2*(h-d)) * ((z+h)**2 - (r**2)/2)\n",
        "\n",
        "#define lambda func for phi_p_i1, phi_p_i2, phi_p_e for easy call using ph_p\n",
        "\n",
        "phi_p_i1 = lambda d1: phi_p(d1)\n",
        "phi_p_i2 =  lambda d2: phi_p(d2)\n",
        "\n",
        "\n",
        "#differentiate with respect to r as that is needed down the road and the function for that is symbolically derived for matching velocity\n",
        "\n",
        "def diff_phi_p_i2(h): #inputs d,z,r,h\n",
        "  return r/(2*d2 - 2*h)\n",
        "\n",
        "def diff_phi_p_i1_i2(x): #differentiation of difference of particular solution\n",
        "  return r/(2*d1 - 2*h) - r/(2*d2 - 2*h)\n",
        "\n",
        "#equation 7 defining the Rs: eigenfunctions ?\n",
        "def R_1n_1(n):\n",
        "  if n==0:\n",
        "    return 1/2\n",
        "  else:\n",
        "    return besseli(0,lambda_n1(n)*r)/besseli(0,lambda_n1(n)*a2)\n",
        "\n",
        "def diff_R_1n_1(n):\n",
        "  if n == 0:\n",
        "    result = 0\n",
        "  else:\n",
        "    numerator = n * np.pi * besseli(1,np.pi * n * r / (d1 - h))\n",
        "    denominator = (d1 - h) * besseli(0,np.pi * a2 * n / (d1 - h))\n",
        "    result = numerator / denominator\n",
        "  return result  #symbolically get from matlab\n",
        "#piecewise(n == 0, 0, 1 <= n, (n*pi*besseli(1, (pi*n*r)/(d1 - h)))/((d1 - h)*besseli(0, (pi*a2*n)/(d1 - h))))\n",
        "\n",
        "\n",
        "def R_1n_2(n):\n",
        "  if n==0:\n",
        "    return 1/2\n",
        "  else:\n",
        "    return besseli(0,lambda_n2(n)*r)/besseli(0,lambda_n2(n)*a2)\n",
        "\n",
        "def diff_R_1n_2(n):\n",
        "  if n == 0:\n",
        "    result = 0\n",
        "  else: #n >= 1\n",
        "    numerator = n * np.pi *  besseli(1,np.pi * n * r / (d2 - h))\n",
        "    denominator = (d2 - h) * besseli(0,np.pi * a2 * n / (d2 - h))\n",
        "    result = numerator / denominator\n",
        "  return result\n",
        "  #piecewise(n == 0, 0, 1 <= n, (n*pi*besseli(1, (pi*n*r)/(d2 - h)))/((d2 - h)*besseli(0, (pi*a2*n)/(d2 - h))))\n",
        "\n",
        "#Similarly Equation 8  besselk\n",
        "\n",
        "def R_2n_1(n):\n",
        "  return 0.0\n",
        "\n",
        "\n",
        "\n",
        "def diff_R_2n_1(n):\n",
        "  return 0.0 #symbolically get from matlab\n",
        "\n",
        "def R_2n_2(n):\n",
        "  if n==0:\n",
        "    return 1/2\n",
        "  else:\n",
        "    return besselk(0,lambda_n2(n)*r)/besselk(0,lambda_n2(n)*a2)\n",
        "\n",
        "def diff_R_2n_2(n):\n",
        "  if n == 0:\n",
        "    result = 1 / (2 * r)\n",
        "  else:\n",
        "    numerator = n * np.pi * besselk(1,-(np.pi * n * r) / (d2 - h))\n",
        "    denominator = (d2 - h) * besselk(0,-(np.pi * a2 * n) / (d2 - h))\n",
        "    result = numerator / denominator\n",
        "  return result #symbolically get from matlab\n",
        "  #piecewise(n == 0, 1/(2*r), 1 <= n, (n*pi*besselk(1, -(pi*n*r)/(d2 - h)))/((d2 - h)*besselk(0, -(pi*a2*n)/(d2 - h))))\n",
        "\n",
        "\n",
        "#Equation 9\n",
        "def Z_n_i1(n):\n",
        "  if n==0:\n",
        "    return 1\n",
        "  else:\n",
        "    return np.sqrt(2)*np.cos(lambda_n1(n)*z+h)\n",
        "\n",
        "def Z_n_i2(n):\n",
        "  if n==0:\n",
        "    return 1\n",
        "  else:\n",
        "    return np.sqrt(2)*np.cos(lambda_n2(n)*z+h)\n",
        "#going back to equation 6\n",
        "  #Inner product of Cs and Rs multiplied by Zs\n",
        "\n",
        "\n",
        "#Equation 13 #needs to solve dispersion equation\n",
        "def m_k(k):\n",
        "  return 1 # return actual value by solving dispersion not 1\n",
        "\n",
        "def Lambda_k(k):\n",
        "  m0 = 0.1\n",
        "  a2= 2\n",
        "  r = 3\n",
        "  if k==0:\n",
        "    return besselh(0,1,m0*r)/besselh(0,1,m0*a2)\n",
        "  else:\n",
        "    return besselk(0,m_k(k)*r)/besselk(0,m_k(k)*a2)\n",
        "\n",
        "\n",
        "def diff_Lambda_k(n):\n",
        "  if n == 0:\n",
        "    numerator = -(m0 * besselh(1, m0 * r))\n",
        "    denominator = besselh(0, a2 * m0)\n",
        "  else:\n",
        "    numerator = -(m_k(n) * besselk(1,r * m_k(n)))\n",
        "    denominator = besselk(0,a2 * m_k(n))\n",
        "  return numerator/denominator\n",
        "  #piecewise(n == 0, -(m0*besselh(1, 1, m0*r))/besselh(0, 1, a2*m0), 1 <= n, -(m_k(n)*besselk(1, r*m_k(n)))/besselk(0, a2*m_k(n)))\n",
        "\n",
        "#% eq 2.34 in analytical methods book, also eq 16 in Seah and Yeung 2006\n",
        "\n",
        "def N_k(k,h=1):\n",
        "  if k==0:\n",
        "    return 1/2*(1+np.sinh(2*m0*h)/(2*m0*h))\n",
        "  else:\n",
        "    return 1/2*(1+np.sin(2*m_k(k)*h)/(2*m_k(k)*h))\n",
        "\n",
        "# Eq 14\n",
        "def Z_n_e(k):\n",
        "  if k==0:\n",
        "    return 1/np.sqrt(N_k(k)) * np.cosh(m0*(z+h))\n",
        "  else:\n",
        "    return 1/2*(1+np.sin(2*m_k(k)*h)/(2*m_k(k)*h))\n",
        "\n",
        "\n",
        "def integrate_gauss(lim1,lim2,func):\n",
        "  return integrate.quadrature(func,lim1,lim2)\n",
        "\n",
        "\n",
        "\n",
        "# more functions for exterior\n",
        "\n",
        "#B_k are the unknown coefficients determined by matching boundary conditions r=a2\n",
        "\n",
        "#Potential matching i.e linear system construction\n",
        "#\n",
        "\n",
        "#[Bu][L]-[Cu][R]=integrate phi_pi2 linear system bc 2.e\n",
        "#[C1u][R]-[Cu][R] = integrate phi_p dot [Z]\n",
        "#unknowns = [C_1n_1(0:N) C_1n_2(0:N) C_2n_2(0:N) B_n(0:N)];\n",
        "\n",
        "\n",
        "\n"
      ]
    },
    {
      "cell_type": "code",
      "source": [
        "# Boundary 2e - unknowns [C_1n_1(0:N) C_1n_2(0:N) C_2n_2(0:N) B_n(0:N)];\n",
        "coefs_2E = [R_1n_2(1),R_2n_2(1),-Lambda_k(1)] #R_1n_1 =0? add them later when setting up Matrix to invert\n",
        "rhs_2E = -integrate.romberg(phi_p_i2, -h, -d2) * Z_n_i2(1)\n",
        "# velocity matching boundary 2e--  MISSING DIFF of R_s\n",
        "#\n",
        "coefs_velocity_2E = [diff_R_1n_2(1),diff_R_2n_2(1),- diff_Lambda_k(1)]\n",
        "rhs_velocity_2E = -integrate.romberg(diff_phi_p_i2, -h, -d2) * Z_n_e(1)\n",
        "\n",
        "\n"
      ],
      "metadata": {
        "id": "oE-qpbdwNG4D"
      },
      "execution_count": 52,
      "outputs": []
    },
    {
      "cell_type": "markdown",
      "source": [
        "Similarly Boundary 12 potential matching\n",
        "\n",
        "`C_1n_2(n) * R_1n_2 + C_2n_2*R_2n_2 - C_1n_1*R_1n_1 =  - ∫ Φ_{12}-ϕ_{i1}* Z_n_i1(n)`\n",
        "\n",
        "and similarly Boundary 12 velocity matching\n",
        "\n",
        "`C_1n_2(n) * R_1n_2 + C_2n_2*R_2n_2  - C_1n_1*R_1n_1 =  - ∫ Φ_{12}-ϕ_{i1}* Z_n_i2(n)`"
      ],
      "metadata": {
        "id": "xKAlGYoqQZi-"
      }
    },
    {
      "cell_type": "code",
      "source": [
        "coefs_12 = [-R_1n_1(1),R_1n_2(1),R_2n_2(1)]\n",
        "rhs_12 = -(integrate.romberg(phi_p_i1, -h, -d1) - integrate.romberg(phi_p_i2, -h, -d1)) * Z_n_i1(1)\n",
        "\n",
        "#velocity matching - MISSING DIFF o R_s\n",
        "coefs_velocity_12 = [-diff_R_1n_1(1),diff_R_1n_2(1),diff_R_2n_2(1)]\n",
        "rhs_velocity_12 = -(integrate.romberg(diff_phi_p_i1_i2, -h, -d1)) * Z_n_i2(1)\n",
        "\n"
      ],
      "metadata": {
        "id": "JtMLkNiyzFNq"
      },
      "execution_count": 53,
      "outputs": []
    },
    {
      "cell_type": "code",
      "source": [
        "coefs_velocity_2E"
      ],
      "metadata": {
        "colab": {
          "base_uri": "https://localhost:8080/"
        },
        "id": "acBc74HntNh1",
        "outputId": "8cd98de7-34d7-439a-a532-3a891a40258f"
      },
      "execution_count": 54,
      "outputs": [
        {
          "output_type": "execute_result",
          "data": {
            "text/plain": [
              "[0.31660890008800796, nan, 3.598350957435044]"
            ]
          },
          "metadata": {},
          "execution_count": 54
        }
      ]
    },
    {
      "cell_type": "markdown",
      "source": [
        "### Thoughts\n",
        "\n",
        "- Now how to set up linear system so that we can do rhs/coefs for all"
      ],
      "metadata": {
        "id": "L7rE9G1lVyNc"
      }
    },
    {
      "cell_type": "code",
      "source": [
        "M = np.array([coefs_2E,coefs_velocity_2E,coefs_12,coefs_velocity_12])\n",
        "M"
      ],
      "metadata": {
        "colab": {
          "base_uri": "https://localhost:8080/"
        },
        "id": "XSKAgGQkn5oU",
        "outputId": "f86567da-bb8e-431a-cd28-e1760751574b"
      },
      "execution_count": 55,
      "outputs": [
        {
          "output_type": "execute_result",
          "data": {
            "text/plain": [
              "array([[ 0.83448565,  1.60794744, -0.30501645],\n",
              "       [ 0.3166089 ,         nan,  3.59835096],\n",
              "       [-0.83448565,  0.83448565,  1.60794744],\n",
              "       [-0.13482794,  0.3166089 ,         nan]])"
            ]
          },
          "metadata": {},
          "execution_count": 55
        }
      ]
    },
    {
      "cell_type": "code",
      "source": [
        "B = np.array([rhs_2E,rhs_velocity_2E,rhs_12,rhs_velocity_12])\n",
        "B"
      ],
      "metadata": {
        "colab": {
          "base_uri": "https://localhost:8080/"
        },
        "id": "JCOgiJLU22M1",
        "outputId": "66713c54-bd7b-49ed-bf57-069dcad86c46"
      },
      "execution_count": 47,
      "outputs": [
        {
          "output_type": "execute_result",
          "data": {
            "text/plain": [
              "array([-1.46904236,  0.55730388, -0.        , -1.43269284])"
            ]
          },
          "metadata": {},
          "execution_count": 47
        }
      ]
    }
  ]
}